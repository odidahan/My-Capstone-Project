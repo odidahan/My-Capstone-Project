{
 "cells": [
  {
   "cell_type": "markdown",
   "metadata": {},
   "source": [
    "# Capstone Project - Odi Dahan"
   ]
  },
  {
   "cell_type": "markdown",
   "metadata": {},
   "source": [
    "## Introduction"
   ]
  },
  {
   "cell_type": "markdown",
   "metadata": {},
   "source": [
    "After losing her job, Monica decided that the compensation money she will use in her venture: a sushi bar. It will be located in Santiago de Chile so you should investigate where is the best location.\n",
    "\n",
    "Business problem\n",
    "To open a sushi place, you must use the Foursquare information on the communes or localities of Santiago (Chile). For this we define our target audience:\n",
    "1. Schools\n",
    "2. Universities\n",
    "3. Offices\n",
    "The above serves to ensure that we have enough customers and that we are not so close to other sushi places."
   ]
  },
  {
   "cell_type": "markdown",
   "metadata": {},
   "source": [
    "## Data"
   ]
  },
  {
   "cell_type": "markdown",
   "metadata": {},
   "source": []
  }
 ],
 "metadata": {
  "kernelspec": {
   "display_name": "Python",
   "language": "python",
   "name": "conda-env-python-py"
  },
  "language_info": {
   "codemirror_mode": {
    "name": "ipython",
    "version": 3
   },
   "file_extension": ".py",
   "mimetype": "text/x-python",
   "name": "python",
   "nbconvert_exporter": "python",
   "pygments_lexer": "ipython3",
   "version": "3.6.7"
  }
 },
 "nbformat": 4,
 "nbformat_minor": 4
}
