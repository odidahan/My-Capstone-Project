{
  "nbformat": 4,
  "nbformat_minor": 0,
  "metadata": {
    "kernelspec": {
      "display_name": "Python",
      "language": "python",
      "name": "conda-env-python-py"
    },
    "language_info": {
      "codemirror_mode": {
        "name": "ipython",
        "version": 3
      },
      "file_extension": ".py",
      "mimetype": "text/x-python",
      "name": "python",
      "nbconvert_exporter": "python",
      "pygments_lexer": "ipython3",
      "version": "3.6.7"
    },
    "colab": {
      "name": "Capstone Project - Intro and Data (W1).ipynb",
      "version": "0.3.2",
      "provenance": [],
      "collapsed_sections": []
    }
  },
  "cells": [
    {
      "cell_type": "markdown",
      "metadata": {
        "id": "Lv0wd3u9-X-V",
        "colab_type": "text"
      },
      "source": [
        "# Capstone Project - Odi Dahan"
      ]
    },
    {
      "cell_type": "markdown",
      "metadata": {
        "id": "8LQr4qib-X-X",
        "colab_type": "text"
      },
      "source": [
        "## Introduction"
      ]
    },
    {
      "cell_type": "markdown",
      "metadata": {
        "id": "E-rmb9de-X-Y",
        "colab_type": "text"
      },
      "source": [
        "After losing her job, Monica decided that the compensation money she will use in her venture: a sushi bar. It will be located in Santiago de Chile so you should investigate where is the best location.\n",
        "\n",
        "Business problem\n",
        "To open a sushi place, you must use the Foursquare information on the communes or localities of Santiago (Chile). For this we define our target audience:\n",
        "1. Schools\n",
        "2. Universities\n",
        "3. Offices\n",
        "The above serves to ensure that we have enough customers and that we are not so close to other sushi places."
      ]
    },
    {
      "cell_type": "markdown",
      "metadata": {
        "id": "-I6uJ8GM-X-a",
        "colab_type": "text"
      },
      "source": [
        "## Data"
      ]
    },
    {
      "cell_type": "markdown",
      "metadata": {
        "id": "Oj2N8t7S-X-b",
        "colab_type": "text"
      },
      "source": [
        "FromWikipedia (tables)\n",
        "\n",
        "Locations\n",
        "\n",
        "https://es.wikipedia.org/wiki/Anexo:Comunas_de_Chile_por_poblaci%C3%B3n\n",
        "\n",
        "PostCodes\n",
        "\n",
        "https://es.wikipedia.org/wiki/Anexo:C%C3%B3digos_postales_de_Chile\n",
        "\n",
        "FromFiles\n",
        "\n",
        "Geo Location (latitude, longitude for each locality)\n",
        "\n",
        "https://raw.githubusercontent.com/odidahan/My-Capstone-Project/master/chile%20geo%20public.csv\n",
        "\n",
        "From Foursquare\n",
        "\n",
        "VenuesCategories \n",
        "\n",
        "https://developer.foursquare.com/docs/resources/categories\n",
        "      \n",
        "Sushi 4bf58dd8d48988d1d2941735\n",
        "\n",
        "Highschool 4bf58dd8d48988d13d941735\n",
        "\n",
        "University 4bf58dd8d48988d1ae941735\n",
        "\n",
        "Office 4d4b7105d754a06375d81259\n",
        "   "
      ]
    },
    {
      "cell_type": "code",
      "metadata": {
        "id": "pHNfg0e7_OxV",
        "colab_type": "code",
        "colab": {}
      },
      "source": [
        ""
      ],
      "execution_count": 0,
      "outputs": []
    }
  ]
}